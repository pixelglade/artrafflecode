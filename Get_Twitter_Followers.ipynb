{
 "cells": [
  {
   "cell_type": "markdown",
   "id": "documentary-expression",
   "metadata": {},
   "source": [
    "<h1>Accessing Twitter with Tweepy</h1>\n",
    "<p>This tutorial is from the <a href=\"https://www.earthdatascience.org/courses/use-data-open-source-python/intro-to-apis/twitter-data-in-python/\">Earth Science Website</a>. Some information on the Tweepy API is available from <a href=\"https://towardsdatascience.com/tweepy-for-beginners-24baf21f2c25\">the Earth Science Tweepy Beginner's Tutorial</a>.</p>"
   ]
  },
  {
   "cell_type": "code",
   "execution_count": 1,
   "id": "indie-perception",
   "metadata": {},
   "outputs": [],
   "source": [
    "import os\n",
    "import tweepy as tw\n",
    "import pandas as pd"
   ]
  },
  {
   "cell_type": "code",
   "execution_count": 2,
   "id": "unknown-doctrine",
   "metadata": {},
   "outputs": [],
   "source": [
    "# These keys are specific to your account, see the above tutorials for details.\n",
    "consumer_key= ''\n",
    "consumer_secret= ''\n",
    "access_token= ''\n",
    "access_token_secret= ''"
   ]
  },
  {
   "cell_type": "code",
   "execution_count": 2,
   "id": "beneficial-woman",
   "metadata": {},
   "outputs": [],
   "source": [
    "# Run this cell if you want to run the qtconsole to debug\n",
    "%qtconsole"
   ]
  },
  {
   "cell_type": "code",
   "execution_count": 3,
   "id": "southern-grave",
   "metadata": {},
   "outputs": [],
   "source": [
    "auth = tw.OAuthHandler(consumer_key, consumer_secret)\n",
    "auth.set_access_token(access_token, access_token_secret)\n",
    "api = tw.API(auth, wait_on_rate_limit=True)"
   ]
  },
  {
   "cell_type": "code",
   "execution_count": null,
   "id": "fewer-tension",
   "metadata": {
    "scrolled": true
   },
   "outputs": [],
   "source": [
    "#Make call on home timeline, print each tweets text\n",
    "public_tweets = api.home_timeline()\n",
    "for tweet in public_tweets:\n",
    "    print(tweet.text)"
   ]
  },
  {
   "cell_type": "code",
   "execution_count": null,
   "id": "infrared-accountability",
   "metadata": {},
   "outputs": [],
   "source": [
    "print('Warning: This code will take 5-10 minutes to run!!')\n",
    "# the screen_name of the targeted user \n",
    "screen_name = \"\" # Add your @handle here without the @\n",
    "  \n",
    "# getting all the followers \n",
    "c = tw.Cursor(api.followers, screen_name) \n",
    "\n",
    "count = 0\n",
    "for cc in c.items(): \n",
    "    count += 1\n",
    "    print(screen_name + \" has \" + str(count) + \" followers.\") "
   ]
  },
  {
   "cell_type": "code",
   "execution_count": null,
   "id": "confident-elizabeth",
   "metadata": {},
   "outputs": [],
   "source": [
    "# Run this code to load the qtconsole to debug or check variables\n",
    "%qtconsole"
   ]
  },
  {
   "cell_type": "code",
   "execution_count": null,
   "id": "conscious-safety",
   "metadata": {},
   "outputs": [],
   "source": [
    "# cc.items() contains more options to print\n",
    "# NOTE: If c.items() has been iterated over before it must be called again\n",
    "screen_name = \"\" # Add your @handle here without the @\n",
    "  \n",
    "# getting all the followers \n",
    "c = tw.Cursor(api.followers, screen_name) \n",
    "\n",
    "names = [];\n",
    "for cc in c.items():\n",
    "    print(cc.screen_name)\n",
    "    names.append(cc.screen_name)"
   ]
  },
  {
   "cell_type": "code",
   "execution_count": null,
   "id": "appropriate-morrison",
   "metadata": {},
   "outputs": [],
   "source": [
    "# Assign names to the data frame.\n",
    "df = pd.DataFrame(names,columns={'screen_name'});\n",
    "print(df)"
   ]
  },
  {
   "cell_type": "code",
   "execution_count": null,
   "id": "sixth-decade",
   "metadata": {},
   "outputs": [],
   "source": [
    "# Assign names to the data frame.\n",
    "# data = zip(names, follower_id) # list will not accept 2 args, must use zip first\n",
    "# df = pd.DataFrame(list(data),columns=['screen_name','follower_id']);\n",
    "df = pd.DataFrame(names,columns=['screen_name']);\n",
    "print(df)"
   ]
  },
  {
   "cell_type": "code",
   "execution_count": null,
   "id": "moral-limit",
   "metadata": {},
   "outputs": [],
   "source": [
    "# save csv of followers\n",
    "df.to_csv('Twitter_Followers.csv')"
   ]
  }
 ],
 "metadata": {
  "kernelspec": {
   "display_name": "Python 3",
   "language": "python",
   "name": "python3"
  },
  "language_info": {
   "codemirror_mode": {
    "name": "ipython",
    "version": 3
   },
   "file_extension": ".py",
   "mimetype": "text/x-python",
   "name": "python",
   "nbconvert_exporter": "python",
   "pygments_lexer": "ipython3",
   "version": "3.8.5"
  }
 },
 "nbformat": 4,
 "nbformat_minor": 5
}
