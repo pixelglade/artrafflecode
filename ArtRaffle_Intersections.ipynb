{
 "cells": [
  {
   "cell_type": "markdown",
   "id": "fifteen-appeal",
   "metadata": {},
   "source": [
    "<h1>Intersection of Twitter Metrics</h1>\n",
    "<p>This script assumes you already have three csv files: \n",
    "    <ul>\n",
    "        <li>Twitter_Followers.csv</li>\n",
    "        <li>Tweet_Likes.csv</li>\n",
    "        <li>Tweet_Retweeters.csv</li>\n",
    "      </ul>\n",
    "<p>To randomize the dataframe there are instructions on this <a href=\"https://www.tutorialexample.com/understand-pandas-dataframe-sample-randomize-dataframe-by-row-python-pandas-tutorial/\">tutorial using Pandas</a>.</p>\n",
    "<p>This script will find the intersection between these CSV files so the end result are Twitter followers who liked AND retweeted your post. This script has cells to check other combinations if you are curious.</p>"
   ]
  },
  {
   "cell_type": "markdown",
   "id": "forbidden-galaxy",
   "metadata": {},
   "source": [
    "<h2>Known Bugs</h2>\n",
    "<p>Will only use display name to merge dataframes due to inconsistent follower_ids in the dataframe.</p>"
   ]
  },
  {
   "cell_type": "code",
   "execution_count": null,
   "id": "protected-sheriff",
   "metadata": {},
   "outputs": [],
   "source": [
    "import pandas as pd\n",
    "import numpy as np\n",
    "import os"
   ]
  },
  {
   "cell_type": "code",
   "execution_count": null,
   "id": "retired-printing",
   "metadata": {},
   "outputs": [],
   "source": [
    "# Edit the path with your own directory, keep the r before the path and use double slashes\n",
    "csv_path = r'C:\\\\Users\\'"
   ]
  },
  {
   "cell_type": "code",
   "execution_count": null,
   "id": "widespread-constitutional",
   "metadata": {},
   "outputs": [],
   "source": [
    "# index_col = 0 ensures row number is not read as a column \"Unnamed: 0\"\n",
    "Likes = pd.read_csv(os.path.join(csv_path,'Tweet_Likes.csv'), index_col = 0)\n",
    "Retweets = pd.read_csv(os.path.join(csv_path,'Tweet_Retweeters.csv'), index_col = 0)\n",
    "Followers = pd.read_csv(os.path.join(csv_path,'Twitter_Followers.csv'), index_col = 0)"
   ]
  },
  {
   "cell_type": "code",
   "execution_count": null,
   "id": "broken-recipient",
   "metadata": {},
   "outputs": [],
   "source": [
    "Likes['liked_post'] = 1\n",
    "Retweets['retweeted_post'] = 1\n",
    "Followers['following'] = 1"
   ]
  },
  {
   "cell_type": "code",
   "execution_count": null,
   "id": "cosmetic-currency",
   "metadata": {},
   "outputs": [],
   "source": [
    "print(Likes)\n",
    "Likes.dtypes"
   ]
  },
  {
   "cell_type": "code",
   "execution_count": null,
   "id": "blind-momentum",
   "metadata": {},
   "outputs": [],
   "source": [
    "print(Retweets)"
   ]
  },
  {
   "cell_type": "code",
   "execution_count": null,
   "id": "devoted-stuff",
   "metadata": {},
   "outputs": [],
   "source": [
    "print(Followers)"
   ]
  },
  {
   "cell_type": "code",
   "execution_count": null,
   "id": "velvet-notice",
   "metadata": {},
   "outputs": [],
   "source": [
    "Followers"
   ]
  },
  {
   "cell_type": "code",
   "execution_count": null,
   "id": "alien-reach",
   "metadata": {},
   "outputs": [],
   "source": [
    "# Load the qtconsole for debugging\n",
    "%qtconsole"
   ]
  },
  {
   "cell_type": "code",
   "execution_count": null,
   "id": "ordinary-yorkshire",
   "metadata": {},
   "outputs": [],
   "source": [
    "pd.set_option('display.max_rows', 500) \n",
    "pd.set_option('display.max_rows', 500)"
   ]
  },
  {
   "cell_type": "code",
   "execution_count": null,
   "id": "sustained-greek",
   "metadata": {
    "scrolled": true
   },
   "outputs": [],
   "source": [
    "not_following = pd.merge(Followers, Likes, how='right', on=['screen_name'])\n",
    "not_following['following'].fillna(0,inplace=True)\n",
    "not_following[not_following['following'] == 0]"
   ]
  },
  {
   "cell_type": "code",
   "execution_count": null,
   "id": "searching-fitting",
   "metadata": {},
   "outputs": [],
   "source": [
    "not_following_RT = pd.merge(Followers, Retweets, how='right', on=['screen_name'])\n",
    "not_following_RT['following'].fillna(0,inplace=True)\n",
    "not_following_RT[not_following_RT['following'] == 0]"
   ]
  },
  {
   "cell_type": "code",
   "execution_count": null,
   "id": "metropolitan-acquisition",
   "metadata": {},
   "outputs": [],
   "source": [
    "# see if I can keep the list of followers but have a column name indicating whether they liked the post or not\n",
    "intersect_likes = pd.merge(Followers, Likes, how='left', on=['screen_name'])\n",
    "intersect_likes.fillna(0,inplace=True)\n",
    "intersect_likes.head()"
   ]
  },
  {
   "cell_type": "code",
   "execution_count": null,
   "id": "posted-budget",
   "metadata": {},
   "outputs": [],
   "source": [
    "# who liked the post\n",
    "intersect_likes[intersect_likes['liked_post']==1]"
   ]
  },
  {
   "cell_type": "code",
   "execution_count": null,
   "id": "substantial-conducting",
   "metadata": {},
   "outputs": [],
   "source": [
    "df = pd.merge(intersect_likes,Retweets, how=\"left\", on=['screen_name'])\n",
    "df.fillna(0,inplace=True)\n",
    "df"
   ]
  },
  {
   "cell_type": "code",
   "execution_count": null,
   "id": "miniature-rabbit",
   "metadata": {},
   "outputs": [],
   "source": [
    "meet_requirements = df[(df['following']==1) & (df['liked_post']==1) & (df['retweeted_post']==1)]\n",
    "print('Those who are following, liked, and retweeted the post include:\\n',\n",
    "      meet_requirements)\n",
    "print('This includes ',meet_requirements.shape[0])"
   ]
  },
  {
   "cell_type": "code",
   "execution_count": null,
   "id": "moving-psychology",
   "metadata": {
    "scrolled": false
   },
   "outputs": [],
   "source": [
    "like_but_not_RT = df[(df['following']==1) & (df['liked_post']==1) & (df['retweeted_post']==0)]\n",
    "print('Those who are following, liked, but did not retweet the post include:\\n',\n",
    "      like_but_not_RT)\n",
    "print('This includes ',like_but_not_RT.shape[0])"
   ]
  },
  {
   "cell_type": "code",
   "execution_count": null,
   "id": "external-messenger",
   "metadata": {},
   "outputs": [],
   "source": [
    "RT_but_not_like = df[(df['following']==1) & (df['liked_post']==0) & (df['retweeted_post']==1)]\n",
    "print('Those who are following, but did not like, and retweeted include:\\n',\n",
    "      RT_but_not_like)\n",
    "print('This includes ',RT_but_not_like.shape[0])"
   ]
  },
  {
   "cell_type": "code",
   "execution_count": null,
   "id": "answering-pitch",
   "metadata": {
    "scrolled": true
   },
   "outputs": [],
   "source": [
    "print('Those who liked but are not following include: \\n',\n",
    "     not_following[not_following['following']==0])"
   ]
  },
  {
   "cell_type": "code",
   "execution_count": null,
   "id": "civic-hanging",
   "metadata": {},
   "outputs": [],
   "source": [
    "print('Those who retweeted but are not following include: \\n',\n",
    "     not_following_RT[not_following_RT['following']==0])"
   ]
  },
  {
   "cell_type": "code",
   "execution_count": null,
   "id": "established-pasta",
   "metadata": {},
   "outputs": [],
   "source": [
    "# Once we have found the intersection we need to randomize the dataframe to do the art raffle.\n",
    "random_seed = 8 # pick a number\n",
    "d = meet_requirements.sample(n = len(meet_requirements), random_state = random_seed)\n",
    "print(type(d))\n",
    "print(d)"
   ]
  },
  {
   "cell_type": "markdown",
   "id": "patent-separation",
   "metadata": {},
   "source": [
    "<div class=\"alert alert-block alert-success\">\n",
    "<b>The Winner of the Art Raffle is:</b> ...\n",
    "</div>"
   ]
  },
  {
   "cell_type": "code",
   "execution_count": null,
   "id": "acoustic-prime",
   "metadata": {},
   "outputs": [],
   "source": [
    "print(d.iloc[0])"
   ]
  },
  {
   "cell_type": "code",
   "execution_count": null,
   "id": "boring-ensemble",
   "metadata": {},
   "outputs": [],
   "source": [
    "df.to_csv('Art_raffle_results.csv')"
   ]
  }
 ],
 "metadata": {
  "kernelspec": {
   "display_name": "Python 3",
   "language": "python",
   "name": "python3"
  },
  "language_info": {
   "codemirror_mode": {
    "name": "ipython",
    "version": 3
   },
   "file_extension": ".py",
   "mimetype": "text/x-python",
   "name": "python",
   "nbconvert_exporter": "python",
   "pygments_lexer": "ipython3",
   "version": "3.8.5"
  }
 },
 "nbformat": 4,
 "nbformat_minor": 5
}
