{
 "cells": [
  {
   "cell_type": "markdown",
   "id": "swedish-delhi",
   "metadata": {},
   "source": [
    "<h1>Extract RTs and user ids on a Tweet with Tweepy</h1>\n",
    "<p>The purpose of this script is to find a tweet ID, then extract retweets using the Twitter API for Twitter.</p>"
   ]
  },
  {
   "cell_type": "code",
   "execution_count": 1,
   "id": "adopted-engineering",
   "metadata": {},
   "outputs": [],
   "source": [
    "import os\n",
    "import tweepy as tw\n",
    "import pandas as pd"
   ]
  },
  {
   "cell_type": "code",
   "execution_count": 2,
   "id": "forced-portsmouth",
   "metadata": {},
   "outputs": [],
   "source": [
    "# These keys are specific for your account\n",
    "consumer_key= ''\n",
    "consumer_secret= ''\n",
    "access_token= ''\n",
    "access_token_secret= ''"
   ]
  },
  {
   "cell_type": "code",
   "execution_count": 3,
   "id": "vertical-ferry",
   "metadata": {},
   "outputs": [],
   "source": [
    "# Run this cell if you want to use the qtconsole to debug\n",
    "%qtconsole"
   ]
  },
  {
   "cell_type": "code",
   "execution_count": 3,
   "id": "increased-packing",
   "metadata": {},
   "outputs": [],
   "source": [
    "auth = tw.OAuthHandler(consumer_key, consumer_secret)\n",
    "auth.set_access_token(access_token, access_token_secret)\n",
    "api = tw.API(auth, wait_on_rate_limit=True)"
   ]
  },
  {
   "cell_type": "code",
   "execution_count": null,
   "id": "requested-pipeline",
   "metadata": {},
   "outputs": [],
   "source": [
    "# get tweets from user timeline (this includes RT, replies, etc)\n",
    "screen_name = \"\" # Add your @handle here without the @\n",
    "new_tweets = api.user_timeline(screen_name = screen_name,count=10, full_text=True)\n",
    "\n",
    "for tweets in new_tweets:\n",
    "    print('Text of Tweet:',tweets.text)\n",
    "    print('Tweet author is:',tweets.author.name)\n",
    "    print('Tweet ID is:',tweets.id)\n"
   ]
  },
  {
   "cell_type": "code",
   "execution_count": null,
   "id": "rising-tomato",
   "metadata": {},
   "outputs": [],
   "source": [
    "# The selected tweet_id\n",
    "# In your browser this is a series of numbers in your URL referring to the tweet\n",
    "tweet_id = \n",
    "  \n",
    "# getting all the followers \n",
    "retweet_list = api.retweets(tweet_id) \n",
    "\n",
    "# printing the screen names of the retweeters \n",
    "retweeters =[]\n",
    "retweeter_id = [];\n",
    "for retweet in retweet_list: \n",
    "    print(retweet.user.screen_name)\n",
    "    retweeters.append(retweet.user.screen_name)\n",
    "    retweeter_id.append(retweet.user.id)"
   ]
  },
  {
   "cell_type": "code",
   "execution_count": null,
   "id": "massive-exhaust",
   "metadata": {},
   "outputs": [],
   "source": [
    "df = pd.DataFrame(retweeters,columns=['screen_name']);\n",
    "print(df)"
   ]
  },
  {
   "cell_type": "code",
   "execution_count": 7,
   "id": "atomic-melbourne",
   "metadata": {},
   "outputs": [],
   "source": [
    "# save csv of Retweeters\n",
    "df.to_csv('Tweet_Retweeters.csv')"
   ]
  },
  {
   "cell_type": "code",
   "execution_count": null,
   "id": "binary-palace",
   "metadata": {},
   "outputs": [],
   "source": [
    "# To get the favorites number we need to get the status of a tweet using the id\n",
    "status = api.get_status(tweet_id)\n",
    "print('This tweet has been favorited ',status.favorite_count,' times.')"
   ]
  }
 ],
 "metadata": {
  "kernelspec": {
   "display_name": "Python 3",
   "language": "python",
   "name": "python3"
  },
  "language_info": {
   "codemirror_mode": {
    "name": "ipython",
    "version": 3
   },
   "file_extension": ".py",
   "mimetype": "text/x-python",
   "name": "python",
   "nbconvert_exporter": "python",
   "pygments_lexer": "ipython3",
   "version": "3.8.5"
  }
 },
 "nbformat": 4,
 "nbformat_minor": 5
}
