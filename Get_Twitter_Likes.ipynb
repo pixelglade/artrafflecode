{
 "cells": [
  {
   "cell_type": "markdown",
   "id": "abstract-conditions",
   "metadata": {},
   "source": [
    "<h1>Extract Likes on a Tweet using Web Scraping</h1>\n",
    "<p>The technique used in this thread is from the following <a href=\"https://stackoverflow.com/questions/28982850/twitter-api-getting-list-of-users-who-favorited-a-status?rq=1\">tutorial on web scraping a tweet</a>.</p>\n",
    "<p>The documentation for urllib is <a href=\"https://docs.python.org/3/library/urllib.parse.html#module-urllib.parse\">available online</a>, as is the official documentation for the regular expressions package <a href=\"https://docs.python.org/3/library/re.html\">re</a>.</p>\n",
    "<p>The re document says the following about certain syntax:\n",
    "    <li>The solution is to use Python’s raw string notation for regular expression patterns; backslashes are not handled in any special way in a string literal prefixed with 'r'.</li>\n",
    "    </p>\n",
    "    <p>(\\d+) is used to find a digit</p>"
   ]
  },
  {
   "cell_type": "code",
   "execution_count": 1,
   "id": "capable-command",
   "metadata": {},
   "outputs": [],
   "source": [
    "# Load qtconsole if you want to debug\n",
    "%qtconsole"
   ]
  },
  {
   "cell_type": "markdown",
   "id": "coordinated-coach",
   "metadata": {},
   "source": [
    "<h2>Web scraping Javascript pages using Selenium and GeckoDriver</h2>\n",
    "<p>The tutorial is available <a href=\"https://towardsdatascience.com/data-science-skills-web-scraping-javascript-using-python-97a29738353f\">here</a>.</p>"
   ]
  },
  {
   "cell_type": "code",
   "execution_count": 9,
   "id": "lovely-gossip",
   "metadata": {},
   "outputs": [],
   "source": [
    "# import libraries\n",
    "import urllib.request\n",
    "from bs4 import BeautifulSoup\n",
    "from selenium import webdriver\n",
    "import time\n",
    "import pandas as pd# specify the url\n",
    "import os\n",
    "\n",
    "screen_name = '' #Your @handle without the @\n",
    "post_id =  # numeric characters referring to the Tweet ID\n",
    "url = f\"https://twitter.com/{screen_name}/status/{post_id}/likes\""
   ]
  },
  {
   "cell_type": "code",
   "execution_count": null,
   "id": "stable-island",
   "metadata": {},
   "outputs": [],
   "source": [
    "import os\n",
    "print (os.environ['PATH'])\n",
    "\n",
    "# run firefox webdriver from executable path of your choice\n",
    "# Follow the tutorial for instructions on how to find your path. It will vary for each system.\n",
    "driver = webdriver.Firefox(executable_path = 'C:\\geckodriver-v0.29.0-win64\\geckodriver.exe')"
   ]
  },
  {
   "cell_type": "code",
   "execution_count": null,
   "id": "tamil-norwegian",
   "metadata": {},
   "outputs": [],
   "source": [
    "# This Cell will load a new browser window. You will need to log into your Twitter account, browse to your post ID then open the \"Likes\" Window\n",
    "# You should manually check if list length matches your expectations\n",
    "# It is possible for Geckodriver to miss likes if you do not scroll all the way down\n",
    "\n",
    "# find elements by xpath# at time of publication, Nov 2018:\n",
    "# results = driver.find_elements_by_xpath(\"//*[@id='componentsContainer']//*[contains(@id,'listingsContainer')]//*[@class='product active']//*[@class='title productTitle']\")# updated Nov 2019:\n",
    "individual_element = '/html/body/div/div/div/div[1]/div[2]/div/div/div/div/div/div[2]/div[2]/div/div[2]/div/div/section/div/div/div[3]/div/div/div/div[2]/div[1]/div[1]/a'\n",
    "group_element = '/html/body/div/div/div/div[1]/div[2]/div/div/div/div/div/div[2]/div[2]/div/div[2]/div/div/section/div/div'\n",
    "results = driver.find_elements_by_xpath(group_element)\n",
    "print('Number of results', len(results))"
   ]
  },
  {
   "cell_type": "markdown",
   "id": "sufficient-indication",
   "metadata": {},
   "source": [
    "<p>Warning: If you scroll too far down the Likes list GeckoDriver will miss some likes. If the list seems smaller than expected try scrolling up.</p>"
   ]
  },
  {
   "cell_type": "code",
   "execution_count": 27,
   "id": "imperial-portland",
   "metadata": {},
   "outputs": [],
   "source": [
    "# create empty array to store data\n",
    "data = []\n",
    "# loop over results\n",
    "for result in results:\n",
    "    text_body = result.text\n",
    "    link = result.find_element_by_tag_name('a')\n",
    "    product_link = link.get_attribute(\"href\")\n",
    "    # append dict to array\n",
    "    data.append({\"product\" : text_body, \"link\" : product_link})"
   ]
  },
  {
   "cell_type": "code",
   "execution_count": null,
   "id": "surgical-scratch",
   "metadata": {},
   "outputs": [],
   "source": [
    "# Twitter likes use Javascript\n",
    "print(text_body)\n",
    "print(type(text_body))"
   ]
  },
  {
   "cell_type": "code",
   "execution_count": 20,
   "id": "controlling-contamination",
   "metadata": {},
   "outputs": [],
   "source": [
    "import re"
   ]
  },
  {
   "cell_type": "code",
   "execution_count": null,
   "id": "molecular-verse",
   "metadata": {},
   "outputs": [],
   "source": [
    "screen_names = re.findall(r'@([A-Za-z0-9_]+)',text_body)\n",
    "print(screen_names)"
   ]
  },
  {
   "cell_type": "code",
   "execution_count": null,
   "id": "loose-zambia",
   "metadata": {},
   "outputs": [],
   "source": [
    "df = pd.DataFrame(screen_names, columns=['screen_name'])\n",
    "df.head()"
   ]
  },
  {
   "cell_type": "code",
   "execution_count": null,
   "id": "romantic-croatia",
   "metadata": {},
   "outputs": [],
   "source": [
    "# Run this cell if you want to check all the screen_names (recommended you check the top and last entries look correct)\n",
    "df = pd.DataFrame(screen_names, columns=['screen_name'])\n",
    "df"
   ]
  },
  {
   "cell_type": "code",
   "execution_count": 31,
   "id": "willing-findings",
   "metadata": {},
   "outputs": [],
   "source": [
    "# save csv of Twitter users who Liked your tweet\n",
    "df.to_csv('Tweet_Likes.csv')"
   ]
  }
 ],
 "metadata": {
  "kernelspec": {
   "display_name": "Python 3",
   "language": "python",
   "name": "python3"
  },
  "language_info": {
   "codemirror_mode": {
    "name": "ipython",
    "version": 3
   },
   "file_extension": ".py",
   "mimetype": "text/x-python",
   "name": "python",
   "nbconvert_exporter": "python",
   "pygments_lexer": "ipython3",
   "version": "3.8.5"
  }
 },
 "nbformat": 4,
 "nbformat_minor": 5
}
